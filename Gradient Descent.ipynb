{
  "nbformat": 4,
  "nbformat_minor": 0,
  "metadata": {
    "colab": {
      "name": "Untitled6.ipynb",
      "provenance": [],
      "collapsed_sections": []
    },
    "kernelspec": {
      "name": "python3",
      "display_name": "Python 3"
    }
  },
  "cells": [
    {
      "cell_type": "markdown",
      "metadata": {
        "id": "4tt21WegPxD7",
        "colab_type": "text"
      },
      "source": [
        "**Gradient Descent working**"
      ]
    },
    {
      "cell_type": "code",
      "metadata": {
        "id": "u4JZVN8aFRCQ",
        "colab_type": "code",
        "colab": {}
      },
      "source": [
        "import numpy"
      ],
      "execution_count": 9,
      "outputs": []
    },
    {
      "cell_type": "markdown",
      "metadata": {
        "id": "Qj3Dl6kpGGyE",
        "colab_type": "text"
      },
      "source": [
        "**(1/(1+e^-sop)**"
      ]
    },
    {
      "cell_type": "code",
      "metadata": {
        "id": "_QKYZtPBFw-l",
        "colab_type": "code",
        "colab": {}
      },
      "source": [
        "def sigmoid(sop):\n",
        "  return 1.0 / (1 + numpy.exp(-1 * sop))"
      ],
      "execution_count": 10,
      "outputs": []
    },
    {
      "cell_type": "markdown",
      "metadata": {
        "id": "-kYvMZENKjQX",
        "colab_type": "text"
      },
      "source": [
        "**(pred - tar) ^ 2 or x^2**"
      ]
    },
    {
      "cell_type": "code",
      "metadata": {
        "id": "vhjLYHvBJ5cM",
        "colab_type": "code",
        "colab": {}
      },
      "source": [
        "def error(predicted,target):\n",
        "  return numpy.power(predicted - target, 2)"
      ],
      "execution_count": 11,
      "outputs": []
    },
    {
      "cell_type": "markdown",
      "metadata": {
        "id": "_MW9DUQ0LLm8",
        "colab_type": "text"
      },
      "source": [
        "**2 * (pred - tar) or 2x**"
      ]
    },
    {
      "cell_type": "code",
      "metadata": {
        "id": "tqwDiW5fK5jn",
        "colab_type": "code",
        "colab": {}
      },
      "source": [
        "def error_predicted_deriv(predicted,target):\n",
        "  return 2 * (predicted - target)"
      ],
      "execution_count": 12,
      "outputs": []
    },
    {
      "cell_type": "markdown",
      "metadata": {
        "id": "_Yao40B5L10Y",
        "colab_type": "text"
      },
      "source": [
        "actual function used for particular model is working or not."
      ]
    },
    {
      "cell_type": "code",
      "metadata": {
        "id": "HgPVkzhxLcXc",
        "colab_type": "code",
        "colab": {}
      },
      "source": [
        "def activation_sop_deriv(sop):\n",
        "  return sigmoid(sop) * (1.0 - sigmoid(sop))"
      ],
      "execution_count": 13,
      "outputs": []
    },
    {
      "cell_type": "code",
      "metadata": {
        "id": "glIXNffmMGC3",
        "colab_type": "code",
        "colab": {}
      },
      "source": [
        "def sop_w_deriv(x):\n",
        "  return x"
      ],
      "execution_count": 14,
      "outputs": []
    },
    {
      "cell_type": "markdown",
      "metadata": {
        "id": "F8oQjJabMasP",
        "colab_type": "text"
      },
      "source": [
        "Update the Weight"
      ]
    },
    {
      "cell_type": "code",
      "metadata": {
        "id": "9Z2FN2lVMMm0",
        "colab_type": "code",
        "colab": {}
      },
      "source": [
        "def update_w(w, grad, learning_rate):\n",
        "  return w - learning_rate * grad"
      ],
      "execution_count": 15,
      "outputs": []
    },
    {
      "cell_type": "code",
      "metadata": {
        "id": "vnsievhDMkZu",
        "colab_type": "code",
        "colab": {
          "base_uri": "https://localhost:8080/",
          "height": 204
        },
        "outputId": "288054a0-31d1-4f61-d450-a6f088b9f703"
      },
      "source": [
        "x = 0.1\n",
        "target = 0.3\n",
        "learning_rate = 0.01\n",
        "w = numpy.random.rand()\n",
        "print(\"Initial W : \",w)\n",
        "for k in range(10):\n",
        "  #forward pass\n",
        "  y = w * x\n",
        "  predicted = sigmoid(y)\n",
        "  err = error(predicted, target)\n",
        "\n",
        "  #Backward Pass\n",
        "  g1 = error_predicted_deriv(predicted, target)\n",
        "  g2 = activation_sop_deriv(predicted)\n",
        "  g3 = sop_w_deriv(x)\n",
        "\n",
        "  grad = g3 * g2 * g1\n",
        "  print(predicted)\n",
        "  w = update_w(w, grad, learning_rate)"
      ],
      "execution_count": 16,
      "outputs": [
        {
          "output_type": "stream",
          "text": [
            "Initial W :  0.4177180499601103\n",
            "0.5104414330359679\n",
            "0.5104389677639399\n",
            "0.5104365025187659\n",
            "0.5104340373004458\n",
            "0.5104315721089795\n",
            "0.5104291069443669\n",
            "0.5104266418066079\n",
            "0.5104241766957024\n",
            "0.5104217116116501\n",
            "0.510419246554451\n"
          ],
          "name": "stdout"
        }
      ]
    }
  ]
}